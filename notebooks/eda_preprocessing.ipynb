{
 "cells": [
  {
   "cell_type": "markdown",
   "id": "007c1be5",
   "metadata": {},
   "source": [
    "# CFPB Complaint Data: EDA and Preprocessing\n",
    "\n",
    "This notebook performs exploratory data analysis (EDA) and preprocessing on the CFPB complaint dataset to prepare it for a Retrieval-Augmented Generation (RAG) chatbot."
   ]
  },
  {
   "cell_type": "code",
   "execution_count": 9,
   "id": "e58c131c",
   "metadata": {},
   "outputs": [],
   "source": [
    "# Import required libraries\n",
    "import pandas as pd\n",
    "import matplotlib.pyplot as plt\n",
    "import seaborn as sns\n",
    "import re\n",
    "import os"
   ]
  },
  {
   "cell_type": "markdown",
   "id": "e3824372",
   "metadata": {},
   "source": [
    "## 1. Load the CFPB Complaint Dataset\n",
    "We load the raw complaints data from the provided CSV file."
   ]
  },
  {
   "cell_type": "code",
   "execution_count": 10,
   "id": "4e612a24",
   "metadata": {},
   "outputs": [
    {
     "name": "stderr",
     "output_type": "stream",
     "text": [
      "C:\\Users\\DAFtech\\AppData\\Local\\Temp\\ipykernel_33712\\2674524464.py:3: DtypeWarning: Columns (16) have mixed types. Specify dtype option on import or set low_memory=False.\n",
      "  df = pd.read_csv(data_path)\n"
     ]
    },
    {
     "data": {
      "text/html": [
       "<div>\n",
       "<style scoped>\n",
       "    .dataframe tbody tr th:only-of-type {\n",
       "        vertical-align: middle;\n",
       "    }\n",
       "\n",
       "    .dataframe tbody tr th {\n",
       "        vertical-align: top;\n",
       "    }\n",
       "\n",
       "    .dataframe thead th {\n",
       "        text-align: right;\n",
       "    }\n",
       "</style>\n",
       "<table border=\"1\" class=\"dataframe\">\n",
       "  <thead>\n",
       "    <tr style=\"text-align: right;\">\n",
       "      <th></th>\n",
       "      <th>Date received</th>\n",
       "      <th>Product</th>\n",
       "      <th>Sub-product</th>\n",
       "      <th>Issue</th>\n",
       "      <th>Sub-issue</th>\n",
       "      <th>Consumer complaint narrative</th>\n",
       "      <th>Company public response</th>\n",
       "      <th>Company</th>\n",
       "      <th>State</th>\n",
       "      <th>ZIP code</th>\n",
       "      <th>Tags</th>\n",
       "      <th>Consumer consent provided?</th>\n",
       "      <th>Submitted via</th>\n",
       "      <th>Date sent to company</th>\n",
       "      <th>Company response to consumer</th>\n",
       "      <th>Timely response?</th>\n",
       "      <th>Consumer disputed?</th>\n",
       "      <th>Complaint ID</th>\n",
       "    </tr>\n",
       "  </thead>\n",
       "  <tbody>\n",
       "    <tr>\n",
       "      <th>0</th>\n",
       "      <td>2025-06-20</td>\n",
       "      <td>Credit reporting or other personal consumer re...</td>\n",
       "      <td>Credit reporting</td>\n",
       "      <td>Incorrect information on your report</td>\n",
       "      <td>Information belongs to someone else</td>\n",
       "      <td>NaN</td>\n",
       "      <td>NaN</td>\n",
       "      <td>Experian Information Solutions Inc.</td>\n",
       "      <td>FL</td>\n",
       "      <td>32092</td>\n",
       "      <td>NaN</td>\n",
       "      <td>NaN</td>\n",
       "      <td>Web</td>\n",
       "      <td>2025-06-20</td>\n",
       "      <td>In progress</td>\n",
       "      <td>Yes</td>\n",
       "      <td>NaN</td>\n",
       "      <td>14195687</td>\n",
       "    </tr>\n",
       "    <tr>\n",
       "      <th>1</th>\n",
       "      <td>2025-06-20</td>\n",
       "      <td>Debt collection</td>\n",
       "      <td>Telecommunications debt</td>\n",
       "      <td>Attempts to collect debt not owed</td>\n",
       "      <td>Debt is not yours</td>\n",
       "      <td>NaN</td>\n",
       "      <td>Company can't verify or dispute the facts in t...</td>\n",
       "      <td>Eastern Account Systems of Connecticut, Inc.</td>\n",
       "      <td>FL</td>\n",
       "      <td>342XX</td>\n",
       "      <td>NaN</td>\n",
       "      <td>NaN</td>\n",
       "      <td>Web</td>\n",
       "      <td>2025-06-20</td>\n",
       "      <td>Closed with explanation</td>\n",
       "      <td>Yes</td>\n",
       "      <td>NaN</td>\n",
       "      <td>14195688</td>\n",
       "    </tr>\n",
       "    <tr>\n",
       "      <th>2</th>\n",
       "      <td>2025-06-20</td>\n",
       "      <td>Credit reporting or other personal consumer re...</td>\n",
       "      <td>Credit reporting</td>\n",
       "      <td>Improper use of your report</td>\n",
       "      <td>Reporting company used your report improperly</td>\n",
       "      <td>NaN</td>\n",
       "      <td>NaN</td>\n",
       "      <td>TRANSUNION INTERMEDIATE HOLDINGS, INC.</td>\n",
       "      <td>AZ</td>\n",
       "      <td>85225</td>\n",
       "      <td>NaN</td>\n",
       "      <td>NaN</td>\n",
       "      <td>Web</td>\n",
       "      <td>2025-06-20</td>\n",
       "      <td>In progress</td>\n",
       "      <td>Yes</td>\n",
       "      <td>NaN</td>\n",
       "      <td>14195689</td>\n",
       "    </tr>\n",
       "    <tr>\n",
       "      <th>3</th>\n",
       "      <td>2025-06-20</td>\n",
       "      <td>Credit reporting or other personal consumer re...</td>\n",
       "      <td>Credit reporting</td>\n",
       "      <td>Improper use of your report</td>\n",
       "      <td>Reporting company used your report improperly</td>\n",
       "      <td>NaN</td>\n",
       "      <td>NaN</td>\n",
       "      <td>Experian Information Solutions Inc.</td>\n",
       "      <td>AZ</td>\n",
       "      <td>85225</td>\n",
       "      <td>NaN</td>\n",
       "      <td>NaN</td>\n",
       "      <td>Web</td>\n",
       "      <td>2025-06-20</td>\n",
       "      <td>In progress</td>\n",
       "      <td>Yes</td>\n",
       "      <td>NaN</td>\n",
       "      <td>14195690</td>\n",
       "    </tr>\n",
       "    <tr>\n",
       "      <th>4</th>\n",
       "      <td>2025-06-20</td>\n",
       "      <td>Credit reporting or other personal consumer re...</td>\n",
       "      <td>Credit reporting</td>\n",
       "      <td>Incorrect information on your report</td>\n",
       "      <td>Account status incorrect</td>\n",
       "      <td>NaN</td>\n",
       "      <td>NaN</td>\n",
       "      <td>Experian Information Solutions Inc.</td>\n",
       "      <td>IL</td>\n",
       "      <td>60628</td>\n",
       "      <td>NaN</td>\n",
       "      <td>NaN</td>\n",
       "      <td>Web</td>\n",
       "      <td>2025-06-20</td>\n",
       "      <td>In progress</td>\n",
       "      <td>Yes</td>\n",
       "      <td>NaN</td>\n",
       "      <td>14195692</td>\n",
       "    </tr>\n",
       "  </tbody>\n",
       "</table>\n",
       "</div>"
      ],
      "text/plain": [
       "  Date received                                            Product  \\\n",
       "0    2025-06-20  Credit reporting or other personal consumer re...   \n",
       "1    2025-06-20                                    Debt collection   \n",
       "2    2025-06-20  Credit reporting or other personal consumer re...   \n",
       "3    2025-06-20  Credit reporting or other personal consumer re...   \n",
       "4    2025-06-20  Credit reporting or other personal consumer re...   \n",
       "\n",
       "               Sub-product                                 Issue  \\\n",
       "0         Credit reporting  Incorrect information on your report   \n",
       "1  Telecommunications debt     Attempts to collect debt not owed   \n",
       "2         Credit reporting           Improper use of your report   \n",
       "3         Credit reporting           Improper use of your report   \n",
       "4         Credit reporting  Incorrect information on your report   \n",
       "\n",
       "                                       Sub-issue Consumer complaint narrative  \\\n",
       "0            Information belongs to someone else                          NaN   \n",
       "1                              Debt is not yours                          NaN   \n",
       "2  Reporting company used your report improperly                          NaN   \n",
       "3  Reporting company used your report improperly                          NaN   \n",
       "4                       Account status incorrect                          NaN   \n",
       "\n",
       "                             Company public response  \\\n",
       "0                                                NaN   \n",
       "1  Company can't verify or dispute the facts in t...   \n",
       "2                                                NaN   \n",
       "3                                                NaN   \n",
       "4                                                NaN   \n",
       "\n",
       "                                        Company State ZIP code Tags  \\\n",
       "0           Experian Information Solutions Inc.    FL    32092  NaN   \n",
       "1  Eastern Account Systems of Connecticut, Inc.    FL    342XX  NaN   \n",
       "2        TRANSUNION INTERMEDIATE HOLDINGS, INC.    AZ    85225  NaN   \n",
       "3           Experian Information Solutions Inc.    AZ    85225  NaN   \n",
       "4           Experian Information Solutions Inc.    IL    60628  NaN   \n",
       "\n",
       "  Consumer consent provided? Submitted via Date sent to company  \\\n",
       "0                        NaN           Web           2025-06-20   \n",
       "1                        NaN           Web           2025-06-20   \n",
       "2                        NaN           Web           2025-06-20   \n",
       "3                        NaN           Web           2025-06-20   \n",
       "4                        NaN           Web           2025-06-20   \n",
       "\n",
       "  Company response to consumer Timely response? Consumer disputed?  \\\n",
       "0                  In progress              Yes                NaN   \n",
       "1      Closed with explanation              Yes                NaN   \n",
       "2                  In progress              Yes                NaN   \n",
       "3                  In progress              Yes                NaN   \n",
       "4                  In progress              Yes                NaN   \n",
       "\n",
       "   Complaint ID  \n",
       "0      14195687  \n",
       "1      14195688  \n",
       "2      14195689  \n",
       "3      14195690  \n",
       "4      14195692  "
      ]
     },
     "execution_count": 10,
     "metadata": {},
     "output_type": "execute_result"
    }
   ],
   "source": [
    "# Load the dataset\n",
    "data_path = '../data/raw/complaints.csv'\n",
    "df = pd.read_csv(data_path)\n",
    "df.head()"
   ]
  },
  {
   "cell_type": "markdown",
   "id": "763177e0",
   "metadata": {},
   "source": [
    "## 2. Initial EDA\n",
    "Let's examine the structure, columns, and a few sample rows."
   ]
  },
  {
   "cell_type": "code",
   "execution_count": 11,
   "id": "758c47bc",
   "metadata": {},
   "outputs": [
    {
     "name": "stdout",
     "output_type": "stream",
     "text": [
      "<class 'pandas.core.frame.DataFrame'>\n",
      "RangeIndex: 9609797 entries, 0 to 9609796\n",
      "Data columns (total 18 columns):\n",
      " #   Column                        Dtype \n",
      "---  ------                        ----- \n",
      " 0   Date received                 object\n",
      " 1   Product                       object\n",
      " 2   Sub-product                   object\n",
      " 3   Issue                         object\n",
      " 4   Sub-issue                     object\n",
      " 5   Consumer complaint narrative  object\n",
      " 6   Company public response       object\n",
      " 7   Company                       object\n",
      " 8   State                         object\n",
      " 9   ZIP code                      object\n",
      " 10  Tags                          object\n",
      " 11  Consumer consent provided?    object\n",
      " 12  Submitted via                 object\n",
      " 13  Date sent to company          object\n",
      " 14  Company response to consumer  object\n",
      " 15  Timely response?              object\n",
      " 16  Consumer disputed?            object\n",
      " 17  Complaint ID                  int64 \n",
      "dtypes: int64(1), object(17)\n",
      "memory usage: 1.3+ GB\n",
      "['Date received', 'Product', 'Sub-product', 'Issue', 'Sub-issue', 'Consumer complaint narrative', 'Company public response', 'Company', 'State', 'ZIP code', 'Tags', 'Consumer consent provided?', 'Submitted via', 'Date sent to company', 'Company response to consumer', 'Timely response?', 'Consumer disputed?', 'Complaint ID']\n"
     ]
    }
   ],
   "source": [
    "# Dataset info\n",
    "df.info()\n",
    "# Show column names\n",
    "print(df.columns.tolist())"
   ]
  },
  {
   "cell_type": "markdown",
   "id": "acc93f8e",
   "metadata": {},
   "source": [
    "## 3. Distribution of Complaints by Product\n",
    "Visualize the number of complaints for each product."
   ]
  },
  {
   "cell_type": "code",
   "execution_count": 12,
   "id": "a119f325",
   "metadata": {},
   "outputs": [
    {
     "data": {
      "image/png": "[encoded data removed]",
      "text/plain": [
       "<Figure size 1000x500 with 1 Axes>"
      ]
     },
     "metadata": {},
     "output_type": "display_data"
    }
   ],
   "source": [
    "# Distribution by Product\n",
    "plt.figure(figsize=(10,5))\n",
    "sns.countplot(y='Product', data=df, order=df['Product'].value_counts().index)\n",
    "plt.title('Number of Complaints by Product')\n",
    "plt.xlabel('Count')\n",
    "plt.ylabel('Product')\n",
    "plt.show()"
   ]
  },
  {
   "cell_type": "markdown",
   "id": "a8041c02",
   "metadata": {},
   "source": [
    "## 4. Analyze Narrative Lengths\n",
    "Calculate and visualize the word count of the 'Consumer complaint narrative'."
   ]
  },
  {
   "cell_type": "code",
   "execution_count": 13,
   "id": "f78fbeb3",
   "metadata": {},
   "outputs": [
    {
     "data": {
      "image/png": "[encoded data removed]",
      "text/plain": [
       "<Figure size 800x400 with 1 Axes>"
      ]
     },
     "metadata": {},
     "output_type": "display_data"
    },
    {
     "data": {
      "text/plain": [
       "count    9.609797e+06\n",
       "mean     5.446667e+01\n",
       "std      1.497672e+02\n",
       "min      0.000000e+00\n",
       "25%      0.000000e+00\n",
       "50%      0.000000e+00\n",
       "75%      5.000000e+01\n",
       "max      6.469000e+03\n",
       "Name: narrative_length, dtype: float64"
      ]
     },
     "execution_count": 13,
     "metadata": {},
     "output_type": "execute_result"
    }
   ],
   "source": [
    "# Add word count column\n",
    "df['narrative_length'] = df['Consumer complaint narrative'].fillna('').apply(lambda x: len(str(x).split()))\n",
    "# Plot distribution\n",
    "plt.figure(figsize=(8,4))\n",
    "sns.histplot(df['narrative_length'], bins=50, kde=True)\n",
    "plt.title('Distribution of Narrative Lengths')\n",
    "plt.xlabel('Word Count')\n",
    "plt.ylabel('Number of Complaints')\n",
    "plt.xlim(0, 1000)  # Limit x-axis to 0-1000 words\n",
    "plt.show()\n",
    "# Show stats\n",
    "df['narrative_length'].describe()"
   ]
  },
  {
   "cell_type": "markdown",
   "id": "2a96e4e9",
   "metadata": {},
   "source": [
    "## 5. Complaints With and Without Narratives\n",
    "Count how many complaints have a narrative and how many do not."
   ]
  },
  {
   "cell_type": "code",
   "execution_count": 14,
   "id": "5128f463",
   "metadata": {},
   "outputs": [
    {
     "name": "stdout",
     "output_type": "stream",
     "text": [
      "With narrative: 2980756\n",
      "Without narrative: 6629041\n"
     ]
    }
   ],
   "source": [
    "# Complaints with/without narrative\n",
    "has_narrative = df['Consumer complaint narrative'].notnull() & (df['Consumer complaint narrative'].str.strip() != '')\n",
    "print('With narrative:', has_narrative.sum())\n",
    "print('Without narrative:', (~has_narrative).sum())"
   ]
  },
  {
   "cell_type": "markdown",
   "id": "6d2c4a0d",
   "metadata": {},
   "source": [
    "## 6. Filter Dataset for Project Requirements\n",
    "Keep only the five specified products and remove empty narratives."
   ]
  },
  {
   "cell_type": "code",
   "execution_count": 15,
   "id": "44f9d833",
   "metadata": {},
   "outputs": [
    {
     "data": {
      "text/plain": [
       "(82164, 19)"
      ]
     },
     "execution_count": 15,
     "metadata": {},
     "output_type": "execute_result"
    }
   ],
   "source": [
    "# Filter for specified products\n",
    "products = ['Credit card', 'Personal loan', 'Buy Now, Pay Later (BNPL)', 'Savings account', 'Money transfers']\n",
    "filtered = df[df['Product'].isin(products)]\n",
    "# Remove empty narratives\n",
    "filtered = filtered[filtered['Consumer complaint narrative'].notnull() & (filtered['Consumer complaint narrative'].str.strip() != '')]\n",
    "filtered.shape"
   ]
  },
  {
   "cell_type": "markdown",
   "id": "a8b8eb47",
   "metadata": {},
   "source": [
    "## 7. Clean Text Narratives\n",
    "Lowercase, remove special characters, and boilerplate text."
   ]
  },
  {
   "cell_type": "code",
   "execution_count": 16,
   "id": "ca67eb2a",
   "metadata": {},
   "outputs": [
    {
     "data": {
      "text/html": [
       "<div>\n",
       "<style scoped>\n",
       "    .dataframe tbody tr th:only-of-type {\n",
       "        vertical-align: middle;\n",
       "    }\n",
       "\n",
       "    .dataframe tbody tr th {\n",
       "        vertical-align: top;\n",
       "    }\n",
       "\n",
       "    .dataframe thead th {\n",
       "        text-align: right;\n",
       "    }\n",
       "</style>\n",
       "<table border=\"1\" class=\"dataframe\">\n",
       "  <thead>\n",
       "    <tr style=\"text-align: right;\">\n",
       "      <th></th>\n",
       "      <th>Product</th>\n",
       "      <th>cleaned_narrative</th>\n",
       "    </tr>\n",
       "  </thead>\n",
       "  <tbody>\n",
       "    <tr>\n",
       "      <th>12237</th>\n",
       "      <td>Credit card</td>\n",
       "      <td>a xxxx xxxx card was opened under my name by a...</td>\n",
       "    </tr>\n",
       "    <tr>\n",
       "      <th>13280</th>\n",
       "      <td>Credit card</td>\n",
       "      <td>dear cfpb i have a secured credit card with ci...</td>\n",
       "    </tr>\n",
       "    <tr>\n",
       "      <th>13506</th>\n",
       "      <td>Credit card</td>\n",
       "      <td>i have a citi rewards cards the credit balance...</td>\n",
       "    </tr>\n",
       "    <tr>\n",
       "      <th>13955</th>\n",
       "      <td>Credit card</td>\n",
       "      <td>bi am writing to dispute the following charges...</td>\n",
       "    </tr>\n",
       "    <tr>\n",
       "      <th>14249</th>\n",
       "      <td>Credit card</td>\n",
       "      <td>although the account had been deemed closed i ...</td>\n",
       "    </tr>\n",
       "  </tbody>\n",
       "</table>\n",
       "</div>"
      ],
      "text/plain": [
       "           Product                                  cleaned_narrative\n",
       "12237  Credit card  a xxxx xxxx card was opened under my name by a...\n",
       "13280  Credit card  dear cfpb i have a secured credit card with ci...\n",
       "13506  Credit card  i have a citi rewards cards the credit balance...\n",
       "13955  Credit card  bi am writing to dispute the following charges...\n",
       "14249  Credit card  although the account had been deemed closed i ..."
      ]
     },
     "execution_count": 16,
     "metadata": {},
     "output_type": "execute_result"
    }
   ],
   "source": [
    "def clean_text(text):\n",
    "    text = text.lower()\n",
    "    text = re.sub(r'[^a-z0-9\\s]', '', text)\n",
    "    text = re.sub(r'i am writing to file a complaint.*', '', text)\n",
    "    text = re.sub(r'\\s+', ' ', text).strip()\n",
    "    return text\n",
    "filtered['cleaned_narrative'] = filtered['Consumer complaint narrative'].apply(clean_text)\n",
    "filtered[['Product', 'cleaned_narrative']].head()"
   ]
  },
  {
   "cell_type": "markdown",
   "id": "2543d6ec",
   "metadata": {},
   "source": [
    "## 8. Save Cleaned and Filtered Dataset\n",
    "Save the processed data to `data/filtered_complaints.csv`."
   ]
  },
  {
   "cell_type": "code",
   "execution_count": 17,
   "id": "47faeb11",
   "metadata": {},
   "outputs": [
    {
     "name": "stdout",
     "output_type": "stream",
     "text": [
      "Saved cleaned data to ../data/filtered_complaints.csv\n"
     ]
    }
   ],
   "source": [
    "output_path = '../data/filtered_complaints.csv'\n",
    "filtered.to_csv(output_path, index=False)\n",
    "print(f'Saved cleaned data to {output_path}')"
   ]
  },
  {
   "cell_type": "markdown",
   "id": "a0a7a35f",
   "metadata": {},
   "source": [
    "# Summary of EDA Findings\n",
    "\n",
    "- The dataset contains complaints across multiple financial products, with the five specified products filtered for this project.\n",
    "- There is a wide range in the length of consumer complaint narratives, with some very short and some very long entries.\n",
    "- A significant portion of complaints lack a narrative, which were removed for downstream tasks.\n",
    "- Text cleaning was performed to standardize and prepare narratives for embedding in the RAG pipeline."
   ]
  }
 ],
 "metadata": {
  "kernelspec": {
   "display_name": ".venv",
   "language": "python",
   "name": "python3"
  },
  "language_info": {
   "codemirror_mode": {
    "name": "ipython",
    "version": 3
   },
   "file_extension": ".py",
   "mimetype": "text/x-python",
   "name": "python",
   "nbconvert_exporter": "python",
   "pygments_lexer": "ipython3",
   "version": "3.13.5"
  }
 },
 "nbformat": 4,
 "nbformat_minor": 5
}
